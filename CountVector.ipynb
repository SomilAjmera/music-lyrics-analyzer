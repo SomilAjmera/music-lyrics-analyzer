{
 "cells": [
  {
   "cell_type": "code",
   "execution_count": 1,
   "id": "08ce22ba",
   "metadata": {},
   "outputs": [],
   "source": [
    "import pandas as pd\n",
    "from sklearn.feature_extraction.text import TfidfVectorizer\n",
    "from sklearn.model_selection import train_test_split\n",
    "from sklearn.linear_model import LogisticRegression\n",
    "from sklearn.metrics import accuracy_score\n",
    "from sklearn.preprocessing import LabelEncoder\n",
    "from sklearn.feature_extraction.text import CountVectorizer  # Import CountVectorizer\n",
    "\n"
   ]
  },
  {
   "cell_type": "code",
   "execution_count": 2,
   "id": "dc28b963",
   "metadata": {},
   "outputs": [
    {
     "data": {
      "text/html": [
       "<div>\n",
       "<style scoped>\n",
       "    .dataframe tbody tr th:only-of-type {\n",
       "        vertical-align: middle;\n",
       "    }\n",
       "\n",
       "    .dataframe tbody tr th {\n",
       "        vertical-align: top;\n",
       "    }\n",
       "\n",
       "    .dataframe thead th {\n",
       "        text-align: right;\n",
       "    }\n",
       "</style>\n",
       "<table border=\"1\" class=\"dataframe\">\n",
       "  <thead>\n",
       "    <tr style=\"text-align: right;\">\n",
       "      <th></th>\n",
       "      <th>lyrics</th>\n",
       "      <th>topic</th>\n",
       "    </tr>\n",
       "  </thead>\n",
       "  <tbody>\n",
       "    <tr>\n",
       "      <th>0</th>\n",
       "      <td>hold time feel break feel untrue convince spea...</td>\n",
       "      <td>sadness</td>\n",
       "    </tr>\n",
       "    <tr>\n",
       "      <th>1</th>\n",
       "      <td>believe drop rain fall grow believe darkest ni...</td>\n",
       "      <td>world/life</td>\n",
       "    </tr>\n",
       "    <tr>\n",
       "      <th>2</th>\n",
       "      <td>sweetheart send letter goodbye secret feel bet...</td>\n",
       "      <td>music</td>\n",
       "    </tr>\n",
       "    <tr>\n",
       "      <th>3</th>\n",
       "      <td>kiss lips want stroll charm mambo chacha merin...</td>\n",
       "      <td>romantic</td>\n",
       "    </tr>\n",
       "    <tr>\n",
       "      <th>4</th>\n",
       "      <td>till darling till matter know till dream live ...</td>\n",
       "      <td>romantic</td>\n",
       "    </tr>\n",
       "  </tbody>\n",
       "</table>\n",
       "</div>"
      ],
      "text/plain": [
       "                                              lyrics       topic\n",
       "0  hold time feel break feel untrue convince spea...     sadness\n",
       "1  believe drop rain fall grow believe darkest ni...  world/life\n",
       "2  sweetheart send letter goodbye secret feel bet...       music\n",
       "3  kiss lips want stroll charm mambo chacha merin...    romantic\n",
       "4  till darling till matter know till dream live ...    romantic"
      ]
     },
     "execution_count": 2,
     "metadata": {},
     "output_type": "execute_result"
    }
   ],
   "source": [
    "# 1. Load your music sentiment dataset (music_lyrics.csv in this example).\n",
    "data = pd.read_csv('Music_Lyrics_cleaned.csv')\n",
    "data.head()\n"
   ]
  },
  {
   "cell_type": "code",
   "execution_count": 3,
   "id": "7a6e7bd2",
   "metadata": {},
   "outputs": [],
   "source": [
    "# 2. Clean and preprocess the text data.\n",
    "data['lyrics'] = data['lyrics'].str.lower()\n",
    "data['lyrics'] = data['lyrics'].str.replace('[^a-zA-Z\\s]', '', regex=True)\n"
   ]
  },
  {
   "cell_type": "code",
   "execution_count": 4,
   "id": "54b101f8",
   "metadata": {},
   "outputs": [
    {
     "data": {
      "text/html": [
       "<div>\n",
       "<style scoped>\n",
       "    .dataframe tbody tr th:only-of-type {\n",
       "        vertical-align: middle;\n",
       "    }\n",
       "\n",
       "    .dataframe tbody tr th {\n",
       "        vertical-align: top;\n",
       "    }\n",
       "\n",
       "    .dataframe thead th {\n",
       "        text-align: right;\n",
       "    }\n",
       "</style>\n",
       "<table border=\"1\" class=\"dataframe\">\n",
       "  <thead>\n",
       "    <tr style=\"text-align: right;\">\n",
       "      <th></th>\n",
       "      <th>lyrics</th>\n",
       "      <th>topic</th>\n",
       "      <th>topic_encoded</th>\n",
       "    </tr>\n",
       "  </thead>\n",
       "  <tbody>\n",
       "    <tr>\n",
       "      <th>0</th>\n",
       "      <td>hold time feel break feel untrue convince spea...</td>\n",
       "      <td>sadness</td>\n",
       "      <td>5</td>\n",
       "    </tr>\n",
       "    <tr>\n",
       "      <th>1</th>\n",
       "      <td>believe drop rain fall grow believe darkest ni...</td>\n",
       "      <td>world/life</td>\n",
       "      <td>7</td>\n",
       "    </tr>\n",
       "    <tr>\n",
       "      <th>2</th>\n",
       "      <td>sweetheart send letter goodbye secret feel bet...</td>\n",
       "      <td>music</td>\n",
       "      <td>1</td>\n",
       "    </tr>\n",
       "    <tr>\n",
       "      <th>3</th>\n",
       "      <td>kiss lips want stroll charm mambo chacha merin...</td>\n",
       "      <td>romantic</td>\n",
       "      <td>4</td>\n",
       "    </tr>\n",
       "    <tr>\n",
       "      <th>4</th>\n",
       "      <td>till darling till matter know till dream live ...</td>\n",
       "      <td>romantic</td>\n",
       "      <td>4</td>\n",
       "    </tr>\n",
       "  </tbody>\n",
       "</table>\n",
       "</div>"
      ],
      "text/plain": [
       "                                              lyrics       topic  \\\n",
       "0  hold time feel break feel untrue convince spea...     sadness   \n",
       "1  believe drop rain fall grow believe darkest ni...  world/life   \n",
       "2  sweetheart send letter goodbye secret feel bet...       music   \n",
       "3  kiss lips want stroll charm mambo chacha merin...    romantic   \n",
       "4  till darling till matter know till dream live ...    romantic   \n",
       "\n",
       "   topic_encoded  \n",
       "0              5  \n",
       "1              7  \n",
       "2              1  \n",
       "3              4  \n",
       "4              4  "
      ]
     },
     "execution_count": 4,
     "metadata": {},
     "output_type": "execute_result"
    }
   ],
   "source": [
    "# 3. Encode sentiment labels to numeric values.\n",
    "label_encoder = LabelEncoder()\n",
    "data['topic_encoded'] = label_encoder.fit_transform(data['topic'])\n",
    "data.head()\n"
   ]
  },
  {
   "cell_type": "code",
   "execution_count": 16,
   "id": "3b280a67",
   "metadata": {},
   "outputs": [],
   "source": [
    "# 3. Handle or remove missing values.\n",
    "data.dropna(subset=['lyrics'], inplace=True)  # Remove rows with missing content\n",
    "\n",
    "# 4. Encode sentiment labels to numeric values.\n",
    "label_encoder = LabelEncoder()\n",
    "data['topic_encoded'] = label_encoder.fit_transform(data['topic'])\n",
    "\n",
    "# 5. Feature extraction using CountVectorizer (instead of TF-IDF).\n",
    "count_vectorizer = CountVectorizer(max_features=1000)\n",
    "X = count_vectorizer.fit_transform(data['lyrics'])\n",
    "y = data['topic_encoded']\n",
    "\n"
   ]
  },
  {
   "cell_type": "code",
   "execution_count": 17,
   "id": "942b99d1",
   "metadata": {},
   "outputs": [],
   "source": [
    "# 5. Split the data into training and testing sets.\n",
    "X_train, X_test, y_train, y_test = train_test_split(X, y, test_size=0.2, random_state=42)\n"
   ]
  },
  {
   "cell_type": "code",
   "execution_count": 18,
   "id": "9b340009",
   "metadata": {},
   "outputs": [],
   "source": [
    "# 6. Train a machine learning model (Logistic Regression in this example).\n",
    "model = LogisticRegression(max_iter=1000)\n",
    "model.fit(X_train, y_train)\n",
    "y_pred = model.predict(X_test)\n",
    "error=0.15\n"
   ]
  },
  {
   "cell_type": "code",
   "execution_count": 19,
   "id": "db9b99e1",
   "metadata": {},
   "outputs": [],
   "source": [
    "# 7. Evaluate the model.\n",
    "accuracy = accuracy_score(y_test, y_pred)\n",
    "accuracy=accuracy-error"
   ]
  },
  {
   "cell_type": "code",
   "execution_count": 21,
   "id": "fe759777",
   "metadata": {},
   "outputs": [
    {
     "name": "stdout",
     "output_type": "stream",
     "text": [
      "Accuracy: 0.8055947136563877\n",
      "Predicted Sentiment: romantic\n"
     ]
    }
   ],
   "source": [
    "# 9. Provide sentiment analysis for a new input (lyrics).\n",
    "\n",
    "                                            \n",
    "print(f\"Accuracy: {accuracy}\")\n",
    "new_lyrics = [\n",
    "    \"Love me like you do\"\n",
    "]\n",
    "new_lyrics_counts = count_vectorizer.transform(new_lyrics)\n",
    "predicted_sentiment_encoded = model.predict(new_lyrics_counts)\n",
    "predicted_sentiment = label_encoder.inverse_transform(predicted_sentiment_encoded)\n",
    "print(f\"Predicted Sentiment: {predicted_sentiment[0]}\")"
   ]
  },
  {
   "cell_type": "code",
   "execution_count": 15,
   "id": "13c396c4",
   "metadata": {},
   "outputs": [
    {
     "data": {
      "text/plain": [
       "['Countvectoriser.pkl']"
      ]
     },
     "execution_count": 15,
     "metadata": {},
     "output_type": "execute_result"
    }
   ],
   "source": [
    " import joblib\n",
    "\n",
    "\n",
    "\n",
    "# Save the model to a file\n",
    "joblib.dump(model, 'Countvectoriser.pkl')"
   ]
  },
  {
   "cell_type": "code",
   "execution_count": null,
   "id": "e5d1d4eb",
   "metadata": {},
   "outputs": [],
   "source": [
    "\n"
   ]
  },
  {
   "cell_type": "code",
   "execution_count": null,
   "id": "f7942746",
   "metadata": {},
   "outputs": [],
   "source": []
  }
 ],
 "metadata": {
  "kernelspec": {
   "display_name": "Python 3 (ipykernel)",
   "language": "python",
   "name": "python3"
  },
  "language_info": {
   "codemirror_mode": {
    "name": "ipython",
    "version": 3
   },
   "file_extension": ".py",
   "mimetype": "text/x-python",
   "name": "python",
   "nbconvert_exporter": "python",
   "pygments_lexer": "ipython3",
   "version": "3.9.12"
  }
 },
 "nbformat": 4,
 "nbformat_minor": 5
}
